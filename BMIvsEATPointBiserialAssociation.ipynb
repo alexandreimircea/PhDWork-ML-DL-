{
  "nbformat": 4,
  "nbformat_minor": 0,
  "metadata": {
    "colab": {
      "provenance": [],
      "authorship_tag": "ABX9TyPoIjVoHPHFmI1XPyj2ntwc",
      "include_colab_link": true
    },
    "kernelspec": {
      "name": "python3",
      "display_name": "Python 3"
    },
    "language_info": {
      "name": "python"
    }
  },
  "cells": [
    {
      "cell_type": "markdown",
      "metadata": {
        "id": "view-in-github",
        "colab_type": "text"
      },
      "source": [
        "<a href=\"https://colab.research.google.com/github/alexandreimircea/PhDWork-ML-DL-/blob/main/BMIvsEATPointBiserialAssociation.ipynb\" target=\"_parent\"><img src=\"https://colab.research.google.com/assets/colab-badge.svg\" alt=\"Open In Colab\"/></a>"
      ]
    },
    {
      "cell_type": "code",
      "execution_count": null,
      "metadata": {
        "colab": {
          "base_uri": "https://localhost:8080/"
        },
        "id": "hzPwJ9wGr7Wq",
        "outputId": "63d284b9-23ba-45d5-a83f-7301e6697bc0"
      },
      "outputs": [
        {
          "output_type": "stream",
          "name": "stdout",
          "text": [
            "     BMI  EAT Anterior %  CAD  High Blood Pressure\n",
            "0   38.3            86.7    1                    1\n",
            "1   24.9            80.1    0                    0\n",
            "2   31.9            87.5    0                    1\n",
            "3   26.9            96.5    0                    1\n",
            "4   39.1            84.2    0                    1\n",
            "5   21.5            87.5    0                    0\n",
            "6   23.0           100.0    0                    0\n",
            "7   41.2            90.8    1                    1\n",
            "8   23.9            82.1    0                    1\n",
            "9   29.2            87.8    0                    1\n",
            "10  31.7            92.2    0                    1\n",
            "11  25.4            90.2    0                    0\n",
            "12  33.7            78.0    0                    1\n",
            "13  25.6            89.6    1                    0\n",
            "14  24.5            69.4    0                    0\n",
            "15  28.1            83.5    0                    1\n",
            "16  16.1            46.3    0                    0\n",
            "17  38.9            79.2    0                    1\n",
            "18  35.0            85.0    0                    0\n",
            "19  26.6            75.7    0                    0\n",
            "20  32.1            63.0    0                    0\n",
            "21  20.8            69.3    0                    0\n",
            "22  19.4            66.4    0                    0\n",
            "23  38.2            97.5    0                    1\n",
            "24  25.9            70.8    0                    1\n",
            "25  30.3            87.2    0                    1\n",
            "26  17.2            68.4    0                    0\n",
            "27  19.0            57.4    0                    0\n",
            "28  30.6            74.3    0                    0\n",
            "29  26.7            79.2    0                    1\n",
            "30  32.1            58.9    0                    1\n",
            "31  38.6            97.8    1                    1\n"
          ]
        }
      ],
      "source": [
        "import pandas as pd\n",
        "from scipy.stats import pointbiserialr\n",
        "\n",
        "\n",
        "data = {\n",
        "    \"BMI\": [\n",
        "        38.3, 24.9, 31.9, 26.9, 39.1, 21.5, 23.0, 41.2,\n",
        "        23.9, 29.2, 31.7, 25.4, 33.7, 25.6, 24.5, 28.1,\n",
        "        16.1, 38.9, 35.0, 26.6, 32.1, 20.8, 19.4, 38.2,\n",
        "        25.9, 30.3, 17.2, 19.0, 30.6, 26.7, 32.1, 38.6\n",
        "    ],\n",
        "    \"EAT Anterior %\": [\n",
        "        86.7, 80.1, 87.5, 96.5, 84.2, 87.5, 100.0, 90.8,\n",
        "        82.1, 87.8, 92.2, 90.2, 78.0, 89.6, 69.4, 83.5,\n",
        "        46.3, 79.2, 85.0, 75.7, 63.0, 69.3, 66.4, 97.5,\n",
        "        70.8, 87.2, 68.4, 57.4, 74.3, 79.2, 58.9, 97.8\n",
        "    ],\n",
        "    \"CAD\": [\n",
        "        'Y', 'N', 'N', 'N', 'N', 'N', 'N', 'Y',\n",
        "        'N', 'N', 'N', 'N', 'N', 'Y', 'N', 'N',\n",
        "        'N', 'N', 'N', 'N', 'N', 'N', 'N', 'N',\n",
        "        'N', 'N', 'N', 'N', 'N', 'N', 'N', 'Y'\n",
        "    ],\n",
        "    \"High Blood Pressure\": [\n",
        "        'Y', 'N', 'Y', 'Y', 'Y', 'N', 'N', 'Y',\n",
        "        'Y', 'Y', 'Y', 'N', 'Y', 'N', 'N', 'Y',\n",
        "        'N', 'Y', 'N', 'N', 'N', 'N', 'N', 'Y',\n",
        "        'Y', 'Y', 'N', 'N', 'N', 'Y', 'Y', 'Y'\n",
        "    ]\n",
        "}\n",
        "\n",
        "df = pd.DataFrame(data)\n",
        "df['CAD'] = df['CAD'].map({'Y': 1, 'N': 0})\n",
        "df['High Blood Pressure'] = df['High Blood Pressure'].map({'Y': 1, 'N': 0})\n",
        "print(df)\n"
      ]
    },
    {
      "cell_type": "code",
      "source": [
        "pointbiserialr(df['BMI'], df['CAD'])"
      ],
      "metadata": {
        "colab": {
          "base_uri": "https://localhost:8080/"
        },
        "id": "jlk4_tb8tG5F",
        "outputId": "76fdbc51-fdb4-499f-f452-b7cf36d96c78"
      },
      "execution_count": null,
      "outputs": [
        {
          "output_type": "execute_result",
          "data": {
            "text/plain": [
              "SignificanceResult(statistic=np.float64(0.40556376993755894), pvalue=np.float64(0.021284402822971584))"
            ]
          },
          "metadata": {},
          "execution_count": 7
        }
      ]
    },
    {
      "cell_type": "code",
      "source": [
        "pointbiserialr(df['EAT Anterior %'], df['CAD'])"
      ],
      "metadata": {
        "colab": {
          "base_uri": "https://localhost:8080/"
        },
        "id": "6Mqqr6DAtldA",
        "outputId": "061cb822-a119-4a15-abb5-870d810d6966"
      },
      "execution_count": null,
      "outputs": [
        {
          "output_type": "execute_result",
          "data": {
            "text/plain": [
              "SignificanceResult(statistic=np.float64(0.3319718192963408), pvalue=np.float64(0.06341981786899321))"
            ]
          },
          "metadata": {},
          "execution_count": 8
        }
      ]
    },
    {
      "cell_type": "code",
      "source": [
        "pointbiserialr(df['BMI'], df['High Blood Pressure'])"
      ],
      "metadata": {
        "colab": {
          "base_uri": "https://localhost:8080/"
        },
        "id": "uyKRl5f_tt4n",
        "outputId": "0391d246-5aff-4f02-fe31-2e499c27db5f"
      },
      "execution_count": null,
      "outputs": [
        {
          "output_type": "execute_result",
          "data": {
            "text/plain": [
              "SignificanceResult(statistic=np.float64(0.6257334446681989), pvalue=np.float64(0.00012815160194611368))"
            ]
          },
          "metadata": {},
          "execution_count": 9
        }
      ]
    },
    {
      "cell_type": "code",
      "source": [
        "pointbiserialr(df['EAT Anterior %'], df['High Blood Pressure'])"
      ],
      "metadata": {
        "colab": {
          "base_uri": "https://localhost:8080/"
        },
        "id": "lkuH_xfaty-F",
        "outputId": "8423bcaf-943d-489c-a09d-f678b9fb6c65"
      },
      "execution_count": null,
      "outputs": [
        {
          "output_type": "execute_result",
          "data": {
            "text/plain": [
              "SignificanceResult(statistic=np.float64(0.38769851214827444), pvalue=np.float64(0.02834651986970843))"
            ]
          },
          "metadata": {},
          "execution_count": 10
        }
      ]
    }
  ]
}